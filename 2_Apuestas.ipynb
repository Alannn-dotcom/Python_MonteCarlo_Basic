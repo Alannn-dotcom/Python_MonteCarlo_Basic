{
 "cells": [
  {
   "cell_type": "code",
   "execution_count": 1,
   "id": "3daa7ae9-895b-4f30-8a9d-c219cc39cb1f",
   "metadata": {},
   "outputs": [],
   "source": [
    "import random"
   ]
  },
  {
   "cell_type": "code",
   "execution_count": 7,
   "id": "f922101f-02d7-4e0a-9e74-ecf6e17e4edf",
   "metadata": {},
   "outputs": [
    {
     "name": "stdout",
     "output_type": "stream",
     "text": [
      "Funds:  2600 \n",
      "\n",
      "Funds:  broke \n",
      "\n",
      "Funds:  broke \n",
      "\n",
      "Funds:  broke \n",
      "\n",
      "Funds:  600 \n",
      "\n",
      "Funds:  broke \n",
      "\n",
      "Funds:  broke \n",
      "\n",
      "Funds:  broke \n",
      "\n",
      "Funds:  broke \n",
      "\n",
      "Funds:  broke \n",
      "\n"
     ]
    }
   ],
   "source": [
    "def rolldice():\n",
    "    roll = random.randint(1,100)\n",
    "    \n",
    "    if roll == 100:\n",
    "        #print (roll,'roll was 100, you lose. What are the odds?! Play Again')\n",
    "        return False\n",
    "        \n",
    "    elif roll <=50:\n",
    "        #print (roll, 'roll was 1-50, you lose. Play Again')\n",
    "        return False\n",
    "        \n",
    "    elif 100 > roll > 50:\n",
    "        #print (roll, 'roll was 51-99, you win!')\n",
    "        return True\n",
    "\n",
    "def simple_bettor(funds, initial_wager, wager_count):\n",
    "    value = funds \n",
    "    wager = initial_wager\n",
    "\n",
    "    currentWager=0\n",
    "    while currentWager < wager_count:\n",
    "        if rolldice():\n",
    "            value += wager\n",
    "        else:\n",
    "            value -= wager\n",
    "        currentWager +=1\n",
    "    if value < 0:\n",
    "        value = 'broke'\n",
    "    print ('Funds: ', value, '\\n')\n",
    "\n",
    "x = 0 #el número de 'personas' que estan llevando a cabo las apuestas.\n",
    "while x < 10:\n",
    "    simple_bettor(10000,100,10000)\n",
    "    x+=1"
   ]
  }
 ],
 "metadata": {
  "kernelspec": {
   "display_name": "Python 3 (ipykernel)",
   "language": "python",
   "name": "python3"
  },
  "language_info": {
   "codemirror_mode": {
    "name": "ipython",
    "version": 3
   },
   "file_extension": ".py",
   "mimetype": "text/x-python",
   "name": "python",
   "nbconvert_exporter": "python",
   "pygments_lexer": "ipython3",
   "version": "3.12.4"
  }
 },
 "nbformat": 4,
 "nbformat_minor": 5
}
